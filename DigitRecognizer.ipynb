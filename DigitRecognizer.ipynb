{
  "cells": [
    {
      "cell_type": "code",
      "execution_count": 15,
      "metadata": {
        "colab": {
          "base_uri": "https://localhost:8080/"
        },
        "id": "Qz237dlRExgF",
        "outputId": "d1b28979-8d37-4fbb-e256-927a9f84e462"
      },
      "outputs": [],
      "source": [
        "#Import de Tensor et vérification de la version\n",
        "import numpy as np\n",
        "import pandas as pd\n",
        "import matplotlib.pyplot as plt\n",
        "%matplotlib inline\n",
        "\n",
        "import seaborn as sns\n",
        "import tensorflow as tf\n",
        "from pymongo import MongoClient\n",
        "\n",
        "\n",
        "from sklearn.preprocessing import StandardScaler\n",
        "from sklearn.model_selection import train_test_split\n",
        "from sklearn.metrics import accuracy_score\n",
        "\n",
        "from tensorflow import keras\n",
        "from tensorflow.keras import layers\n",
        "\n",
        "from keras.datasets import mnist\n",
        "\n"
      ]
    },
    {
      "cell_type": "code",
      "execution_count": 2,
      "metadata": {
        "colab": {
          "base_uri": "https://localhost:8080/",
          "height": 255
        },
        "id": "tdMQXKYeJjQZ",
        "outputId": "48ae26ae-de10-4028-b34c-747acd76dd44"
      },
      "outputs": [],
      "source": [
        "\n",
        "# Connexion à la base de données MongoDB\n",
        "client = MongoClient(\"mongodb://localhost:27017\")\n",
        "db = client[\"DigitRecognizer\"]\n",
        "train_collection_name = \"train\"\n",
        "test_collection_name = \"test\"\n",
        "\n",
        "# Récupération des données d'entraînement et de test\n",
        "train_cursor = db[train_collection_name].find()\n",
        "test_cursor = db[test_collection_name].find()\n",
        "\n",
        "# Conversion des données en DataFrames pandas\n",
        "train_data = pd.DataFrame(list(train_cursor), columns=[\"label\"] + [f\"pixel{i}\" for i in range(784)])\n",
        "\n",
        "test_data = pd.DataFrame(list(test_cursor), columns=[f\"pixel{i}\" for i in range(784)])\n",
        "\n",
        "#Ferme la connexion à Mongo\n",
        "client.close()\n",
        "\n"
      ]
    },
    {
      "cell_type": "code",
      "execution_count": 3,
      "metadata": {},
      "outputs": [
        {
          "name": "stdout",
          "output_type": "stream",
          "text": [
            "Epoch 1/10\n",
            "1050/1050 [==============================] - 4s 3ms/step - loss: 0.2873 - accuracy: 0.9190 - val_loss: 0.1903 - val_accuracy: 0.9496\n",
            "Epoch 2/10\n",
            "1050/1050 [==============================] - 3s 3ms/step - loss: 0.1147 - accuracy: 0.9642 - val_loss: 0.1820 - val_accuracy: 0.9557\n",
            "Epoch 3/10\n",
            "1050/1050 [==============================] - 3s 3ms/step - loss: 0.0735 - accuracy: 0.9781 - val_loss: 0.1684 - val_accuracy: 0.9617\n",
            "Epoch 4/10\n",
            "1050/1050 [==============================] - 3s 3ms/step - loss: 0.0531 - accuracy: 0.9829 - val_loss: 0.2159 - val_accuracy: 0.9592\n",
            "Epoch 5/10\n",
            "1050/1050 [==============================] - 3s 3ms/step - loss: 0.0415 - accuracy: 0.9880 - val_loss: 0.1999 - val_accuracy: 0.9627\n",
            "Epoch 6/10\n",
            "1050/1050 [==============================] - 4s 3ms/step - loss: 0.0276 - accuracy: 0.9915 - val_loss: 0.1939 - val_accuracy: 0.9646\n",
            "Epoch 7/10\n",
            "1050/1050 [==============================] - 4s 4ms/step - loss: 0.0196 - accuracy: 0.9940 - val_loss: 0.2357 - val_accuracy: 0.9662\n",
            "Epoch 8/10\n",
            "1050/1050 [==============================] - 4s 4ms/step - loss: 0.0218 - accuracy: 0.9935 - val_loss: 0.2482 - val_accuracy: 0.9670\n",
            "Epoch 9/10\n",
            "1050/1050 [==============================] - 4s 4ms/step - loss: 0.0144 - accuracy: 0.9955 - val_loss: 0.2165 - val_accuracy: 0.9655\n",
            "Epoch 10/10\n",
            "1050/1050 [==============================] - 3s 3ms/step - loss: 0.0093 - accuracy: 0.9973 - val_loss: 0.2318 - val_accuracy: 0.9667\n",
            "263/263 [==============================] - 0s 2ms/step - loss: 0.2318 - accuracy: 0.9667\n",
            "Précision du modèle : 0.9666666388511658\n"
          ]
        }
      ],
      "source": [
        "# Diviser les données en features (X) et labels (y)\n",
        "X = train_data.drop(\"label\", axis=1)\n",
        "y = train_data[\"label\"]\n",
        "\n",
        "# Diviser les données en ensembles d'entraînement et de test\n",
        "X_train, X_test, y_train, y_test = train_test_split(X, y, test_size=0.2, random_state=42)\n",
        "\n",
        "# Convertir les séries pandas en tableaux NumPy\n",
        "X_train = X_train.values\n",
        "X_test = X_test.values\n",
        "y_train = y_train.values\n",
        "y_test = y_test.values\n",
        "\n",
        "# Normaliser les données\n",
        "scaler = StandardScaler()\n",
        "X_train = scaler.fit_transform(X_train)\n",
        "X_test = scaler.transform(X_test)\n",
        "\n",
        "# Initialiser le modèle\n",
        "model = keras.Sequential([\n",
        "    layers.Dense(128, activation='relu', input_shape=(784,)),\n",
        "    layers.Dense(10, activation='softmax')\n",
        "])\n",
        "\n",
        "# Compiler le modèle avec l'optimiseur Adam\n",
        "model.compile(optimizer='adam', loss='sparse_categorical_crossentropy', metrics=['accuracy'])\n",
        "\n",
        "# Entraîner le modèle\n",
        "model.fit(X_train, y_train, epochs=10, batch_size=32, validation_data=(X_test, y_test))\n",
        "\n",
        "# Évaluer le modèle sur l'ensemble de test\n",
        "accuracy = model.evaluate(X_test, y_test)[1]\n",
        "print(f\"Précision du modèle : {accuracy}\")\n"
      ]
    },
    {
      "cell_type": "code",
      "execution_count": 4,
      "metadata": {},
      "outputs": [],
      "source": [
        "model_json = model.to_json()\n",
        "with open(\"model.json\",\"w\") as json_file:\n",
        "    json_file.write(model_json)\n",
        "model.save_weights(\"model.h5\")\n"
      ]
    },
    {
      "cell_type": "code",
      "execution_count": 17,
      "metadata": {},
      "outputs": [
        {
          "data": {
            "image/png": "[encoded data removed]",
            "text/plain": [
              "<Figure size 640x480 with 1 Axes>"
            ]
          },
          "metadata": {},
          "output_type": "display_data"
        }
      ],
      "source": [
        "#Question guidées:\n",
        "# 1) Charger et visualiser les images d'entraînement et de test du jeu de données MNIST dans un notebook ?\n",
        "\n",
        "\n",
        "# Charger les données d'entraînement et de test\n",
        "(X_train, y_train), (X_test, y_test) = mnist.load_data()\n",
        "\n",
        "# a. Afficher une image quelconque depuis le train en indiquant comme titre de l'image son label (càd le target associé) ?\n",
        "plt.imshow(X_train[0], cmap='gray')  # Vous pouvez choisir un autre index si vous le souhaitez\n",
        "plt.title(f\"Label: {y_train[0]}\")\n",
        "plt.show()\n"
      ]
    },
    {
      "cell_type": "code",
      "execution_count": 13,
      "metadata": {},
      "outputs": [
        {
          "data": {
            "image/png": "[encoded data removed]",
            "text/plain": [
              "<Figure size 1200x600 with 10 Axes>"
            ]
          },
          "metadata": {},
          "output_type": "display_data"
        }
      ],
      "source": [
        "\n",
        "# b. Afficher dans une même figure les chiffres de 0 à 9 ?\n",
        "plt.figure(figsize=(12, 6))\n",
        "for i in range(10):\n",
        "    plt.subplot(2, 5, i + 1)\n",
        "    plt.imshow(X_train[y_train == i][0], cmap='gray')\n",
        "    plt.title(f\"Label: {i}\")\n",
        "    plt.axis('off')  # Masquer les axes\n",
        "plt.show()\n"
      ]
    }
  ],
  "metadata": {
    "colab": {
      "provenance": []
    },
    "kernelspec": {
      "display_name": "Python 3",
      "name": "python3"
    },
    "language_info": {
      "codemirror_mode": {
        "name": "ipython",
        "version": 3
      },
      "file_extension": ".py",
      "mimetype": "text/x-python",
      "name": "python",
      "nbconvert_exporter": "python",
      "pygments_lexer": "ipython3",
      "version": "3.11.2"
    }
  },
  "nbformat": 4,
  "nbformat_minor": 0
}
